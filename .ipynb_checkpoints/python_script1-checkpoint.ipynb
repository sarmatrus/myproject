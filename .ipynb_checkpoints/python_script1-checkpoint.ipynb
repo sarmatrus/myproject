{
 "cells": [
  {
   "cell_type": "code",
   "execution_count": null,
   "metadata": {},
   "outputs": [],
   "source": [
    "import turtle\n",
    "turtle.reset()\n",
    "turtle.forward(40) #Можно копировать, перемещать и удалять\n",
    "turtle.right(90) #любые фрагменты программы\n",
    "turtle.forward(40)\n",
    "turtle.right(90)\n",
    "turtle.forward(40)\n",
    "turtle.right(90)\n",
    "turtle.forward(40)\n",
    "turtle.right(90)"
   ]
  },
  {
   "cell_type": "code",
   "execution_count": null,
   "metadata": {},
   "outputs": [],
   "source": [
    "print(1, '+', 2, '=', sep=\"\")"
   ]
  },
  {
   "cell_type": "code",
   "execution_count": null,
   "metadata": {},
   "outputs": [],
   "source": [
    "im = str (input('Введите имя для приветствия '))\n",
    "print('Привет,', im, end = '')\n",
    "print ('!', sep = '')"
   ]
  },
  {
   "cell_type": "code",
   "execution_count": null,
   "metadata": {},
   "outputs": [],
   "source": [
    "im = int (input('Введите целое число '))\n",
    "print('Следующее за числом', im, 'число -', im + 1, end = '')\n",
    "print('.')\n",
    "print ('Для числа', im, 'предыдущее число -', im - 1, end = '')\n",
    "print('.')"
   ]
  },
  {
   "cell_type": "code",
   "execution_count": null,
   "metadata": {},
   "outputs": [],
   "source": [
    "a = int (input('Введите целое число a = '))\n",
    "b = int (input('Введите целое число b = '))\n",
    "print ('a+b=', a + b, sep = '', end = '')\n",
    "print (' a-b=', a - b, sep = '', end = '')\n",
    "print (' a*b=', a * b, sep = '', end = '')\n",
    "print (' a/b=', a / b, sep = '', end = '')\n",
    "print (' (a+b)/2=', (a + b) / 2, sep = '', end = '')"
   ]
  },
  {
   "cell_type": "code",
   "execution_count": null,
   "metadata": {},
   "outputs": [],
   "source": [
    "a = int (input('Введите количество яблок = '))\n",
    "b = int (input('Введите количество школьников = '))\n",
    "print ('Каждому школьнику досталось', a // b, 'яблок(а), а в корзине -', a % b, 'яблок(o)')\n"
   ]
  },
  {
   "cell_type": "code",
   "execution_count": null,
   "metadata": {},
   "outputs": [],
   "source": [
    "a = int ( input('Введите двухзначное число - '))\n",
    "print ('Сумма цифр =', a//10 + a % 10)"
   ]
  },
  {
   "cell_type": "code",
   "execution_count": null,
   "metadata": {},
   "outputs": [],
   "source": [
    "a = int ( input('Введите трёхзначное число - '))\n",
    "print (a//100,  a//10%10, a%100%10)"
   ]
  },
  {
   "cell_type": "code",
   "execution_count": null,
   "metadata": {},
   "outputs": [],
   "source": [
    "a = int ( input('Введите 4хзначное число - '))\n",
    "print (a//1000 + a//100%10 + a//10%10%10 + a%10)"
   ]
  },
  {
   "cell_type": "code",
   "execution_count": null,
   "metadata": {},
   "outputs": [],
   "source": [
    "a = float ( input('Введите чило a - '))\n",
    "b = float ( input('Введите число b - '))\n",
    "if (a % b)==0:\n",
    "    print ('b делитель a')\n",
    "else:\n",
    "    print ('b НЕ делитель a')\n",
    "        "
   ]
  },
  {
   "cell_type": "code",
   "execution_count": null,
   "metadata": {},
   "outputs": [],
   "source": [
    "x = float ( input('Введите координату x - '))\n",
    "y = float ( input('Введите координату y - '))\n",
    "if x>= 4:\n",
    "    print ('Кордината во 2-ом секторе')\n",
    "else:\n",
    "    print ('Кордината во 1-ом секторе')"
   ]
  },
  {
   "cell_type": "code",
   "execution_count": null,
   "metadata": {},
   "outputs": [],
   "source": [
    "#from math import sin\n",
    "x = float ( input('Введите  x - '))\n",
    "if x > 0:\n",
    "    print ('y =', math.sin(x)**2)\n",
    "else:\n",
    "    print ('y = ', 1 - math.sin(x**2))"
   ]
  },
  {
   "cell_type": "code",
   "execution_count": null,
   "metadata": {},
   "outputs": [],
   "source": [
    "n = int ( input('Введите число - '))\n",
    "if n % 2 == 0:\n",
    "    print ('Четное')"
   ]
  },
  {
   "cell_type": "code",
   "execution_count": null,
   "metadata": {},
   "outputs": [],
   "source": [
    "a = int ( input ('Введите сколько лет Мите - '))\n",
    "b = int ( input ('Введите сколько лет Васе - '))\n",
    "if a == b:\n",
    "    print ('Одного возраста')\n",
    "elif a > b:\n",
    "    print ('Митя старше Васи')\n",
    "else :\n",
    "    print ('Вася старше')\n",
    "    \n"
   ]
  },
  {
   "cell_type": "code",
   "execution_count": null,
   "metadata": {},
   "outputs": [],
   "source": [
    "a = float ( input ('Введите какого веса спортсмен - '))\n",
    "if a < 60:\n",
    "    print ('Легкий вес')\n",
    "if a >= 60 and a < 64:\n",
    "    print ('Первый полусредний вес')\n",
    "if  a >= 64 and a < 69:\n",
    "    print ('Полусредний вес')\n",
    "if a >= 69:\n",
    "    print ('Вне категории')"
   ]
  },
  {
   "cell_type": "code",
   "execution_count": null,
   "metadata": {},
   "outputs": [],
   "source": [
    "a = float ( input ('Введите a - '))\n",
    "b = float ( input ('Введите b - '))\n",
    "Max = max (a, b)\n",
    "print (Max)"
   ]
  },
  {
   "cell_type": "code",
   "execution_count": null,
   "metadata": {},
   "outputs": [],
   "source": [
    "b = int (input ('Введите число b (>=10)-' ))\n",
    "if b >= 10:                \n",
    "    for b in range (10, b + 1):\n",
    "        print(b**3)\n",
    "if b < 10:\n",
    "    print ('Введите b  снова')\n",
    "    "
   ]
  },
  {
   "cell_type": "code",
   "execution_count": null,
   "metadata": {},
   "outputs": [],
   "source": [
    "print ('Фунты      Килограммы ')\n",
    "for b in range (1, 11):\n",
    "    c = b * 0.453\n",
    "    print('% 3d '% b, '% 13.3f '% c)\n"
   ]
  },
  {
   "cell_type": "code",
   "execution_count": null,
   "metadata": {},
   "outputs": [],
   "source": [
    "for b in range (1, 10):\n",
    "    print( b, 'x 7 =', b*7)"
   ]
  },
  {
   "cell_type": "code",
   "execution_count": null,
   "metadata": {},
   "outputs": [],
   "source": [
    "for b in range (11, 101, 2):\n",
    "    print( b, '', end = '')"
   ]
  },
  {
   "cell_type": "code",
   "execution_count": null,
   "metadata": {},
   "outputs": [],
   "source": [
    "for b in range (11, 100, 2):\n",
    "    if b%10==3 or b%10==7:\n",
    "        print( b, '', end = '')    "
   ]
  },
  {
   "cell_type": "code",
   "execution_count": null,
   "metadata": {},
   "outputs": [],
   "source": [
    "a = int (input ('Введите число a -' ))\n",
    "b = int (input ('Введите число b, что бы > а -' ))\n",
    "c = int (input ('Введите кратное число c -' ))\n",
    "if b>=a:\n",
    "    for d in range (a, b + 1):\n",
    "            if (d%c) == 0:\n",
    "                print(d, '', end = '') "
   ]
  },
  {
   "cell_type": "code",
   "execution_count": null,
   "metadata": {},
   "outputs": [],
   "source": [
    "for b in range (11, 100):\n",
    "    if ((b%10)**2+(b//10)**2)%13==0:\n",
    "        print( b, '', end = '')  "
   ]
  },
  {
   "cell_type": "code",
   "execution_count": null,
   "metadata": {},
   "outputs": [],
   "source": []
  },
  {
   "cell_type": "code",
   "execution_count": null,
   "metadata": {},
   "outputs": [],
   "source": [
    "n = int (input ('Введите число n -' ))\n",
    "if n>1:\n",
    "    b=0\n",
    "    for a in range (1, n+1):\n",
    "        b=b+a**2\n",
    "print( b, '', end = '')  "
   ]
  },
  {
   "cell_type": "code",
   "execution_count": null,
   "metadata": {},
   "outputs": [],
   "source": [
    "n = int (input ('Введите число n>=2 - ' ))\n",
    "if n>=2:\n",
    "    Sum=0\n",
    "    for a in range (2, n+1):\n",
    "        Sum=Sum+(a-1)*a\n",
    "    print(Sum)\n",
    "else :\n",
    "    print('Введите снова')\n",
    "        "
   ]
  },
  {
   "cell_type": "code",
   "execution_count": null,
   "metadata": {},
   "outputs": [],
   "source": [
    "Sum=0\n",
    "for a in range (100, 1000, 2):\n",
    "    Sum=Sum+a\n",
    "print(Sum)"
   ]
  },
  {
   "cell_type": "code",
   "execution_count": null,
   "metadata": {},
   "outputs": [],
   "source": [
    "n = int (input ('Введите число 1<=n<=27 - ' ))\n",
    "if n>=1 and n<=27:\n",
    "    Sum=0\n",
    "    count=0\n",
    "    for a in range (100, 1000):\n",
    "        Sum=a//100+a//10%10+a%10\n",
    "        if Sum==n:\n",
    "            count=count+1\n",
    "    print(count)\n",
    "else :\n",
    "    print('Введите снова')"
   ]
  },
  {
   "cell_type": "code",
   "execution_count": null,
   "metadata": {},
   "outputs": [],
   "source": [
    "k=923451\n",
    "for n in range (5, -1, -1):\n",
    "    z=k%(10**n)\n",
    "    print (z)\n"
   ]
  },
  {
   "cell_type": "code",
   "execution_count": null,
   "metadata": {},
   "outputs": [],
   "source": [
    "n = int (input ('Введите максимальное натуральное число - ' ))\n",
    "print ('Ряд натуральных чисел ', end='')\n",
    "k=0\n",
    "if n>0:\n",
    "    while k != n:\n",
    "        k=k+1\n",
    "        print( k, '', end='')\n",
    "else :\n",
    "    print('Введите снова')"
   ]
  },
  {
   "cell_type": "code",
   "execution_count": null,
   "metadata": {},
   "outputs": [],
   "source": [
    "print ('Все нечетные числа из интервала [10, 100]: ', end='')\n",
    "k=9\n",
    "while k < 99:\n",
    "    k=k+2\n",
    "    print( k, '', end='')\n"
   ]
  },
  {
   "cell_type": "code",
   "execution_count": null,
   "metadata": {},
   "outputs": [],
   "source": [
    "n = int (input ('Введите натуральное число - ' ))\n",
    "sum=0\n",
    "while n>0:\n",
    "    a=n%10\n",
    "    n=n//10\n",
    "    sum=sum+a\n",
    "print(sum)"
   ]
  },
  {
   "cell_type": "code",
   "execution_count": null,
   "metadata": {},
   "outputs": [],
   "source": [
    "n = int (input ('Введите максимальное натуральное число - ' ))\n",
    "print ('Ряд натуральных чисел ', end='')\n",
    "k=1\n",
    "kv=0\n",
    "if n>0:\n",
    "    while kv<=n:\n",
    "        print( k, '', end='')\n",
    "        k=k+1\n",
    "        kv=(k)**2\n",
    "else :\n",
    "    print('Введите снова')"
   ]
  },
  {
   "cell_type": "code",
   "execution_count": null,
   "metadata": {},
   "outputs": [],
   "source": [
    "n = int (input ('Введите максимальное натуральное число - ' ))\n",
    "print ('Ряд натуральных чисел ', end='')\n",
    "k=1\n",
    "kv=1\n",
    "if n>0:\n",
    "    while kv<=n:\n",
    "        print( kv, '', end='')\n",
    "        k=k+1\n",
    "        kv=(k)**2\n",
    "else :\n",
    "    print('Введите снова')"
   ]
  },
  {
   "cell_type": "code",
   "execution_count": null,
   "metadata": {},
   "outputs": [],
   "source": [
    "k=1\n",
    "while k<=13.5:\n",
    "    print( '% 3.1f '% k, '', end='')\n",
    "    k=k+0.5\n",
    "    \n"
   ]
  },
  {
   "cell_type": "code",
   "execution_count": null,
   "metadata": {},
   "outputs": [],
   "source": [
    "# цикл с постусловием\n",
    "print('Задайте значение четное число:')\n",
    "a = int(input())\n",
    "b=a%2\n",
    "while b != 0:\n",
    "    print('Коэффициент а не должен быть равен нулю!')\n",
    "    print('Задайте значение коэффициента а уравнения:')\n",
    "    print('Задайте значение четное число:')\n",
    "    a = int(input())\n",
    "    b=a%2"
   ]
  },
  {
   "cell_type": "code",
   "execution_count": null,
   "metadata": {},
   "outputs": [],
   "source": [
    "for x in range (1, 102):\n",
    "    Sum=(x**2+100)/(x+200)\n",
    "    if (Sum<0.52) or (Sum>33.7):\n",
    "        print('% 20.3f '% Sum, '', end='')\n",
    "    "
   ]
  },
  {
   "cell_type": "code",
   "execution_count": null,
   "metadata": {},
   "outputs": [],
   "source": [
    "# Игра Чет - нечет\n",
    "from random import randint\n",
    "n = 2 #Количество вопросов.\n",
    "#Это должно быть нечетное число\n",
    "prav = 0\n",
    "for k in range(n):\n",
    "    while True:\n",
    "        otvet = int(input('Чет (введите 2) или нечет (введите 1)? '))\n",
    "        if otvet != 1 and otvet != 2:\n",
    "            print('Надо вводить 1 или 2! Попробуйте еще раз')\n",
    "        else:\n",
    "            break #Выходим из цикла while\n",
    "    n_comp = randint(1, 2)\n",
    "    print('Число компьютера:', n_comp)\n",
    "    if otvet == n_comp:\n",
    "        prav = prav + 1 #Увеличиваем счетчик\n",
    "                        #Определяем результат игры\n",
    "if prav > n//2:\n",
    "    print('Вы выиграли со счетом ', prav, ' : ', (n-prav))\n",
    "else:\n",
    "    if prav == n//2:\n",
    "        print('Ничья ', prav, ' : ', (n-prav))\n",
    "    else:\n",
    "        print('Вы проиграли со счетом ', (n-prav), ' : ', prav)\n"
   ]
  },
  {
   "cell_type": "code",
   "execution_count": null,
   "metadata": {},
   "outputs": [],
   "source": [
    "# Игра в Кубики\n",
    "from random import randint\n",
    "import time\n",
    "#Ввод имен играющих\n",
    "k1=0\n",
    "k2=0\n",
    "igrok1 = input('Введите имя 1-го играющего ')\n",
    "igrok2 = input('Введите имя 2-го играющего ')\n",
    "#Моделирование бросания кубика первым играющим\n",
    "for i in range (2):\n",
    "    print('Кубик бросает', igrok1)\n",
    "    time.sleep(3)\n",
    "    n1 = randint(1, 6)\n",
    "    print('Выпало:', n1)\n",
    "    k1=k1+n1\n",
    "print('В сумме выпало - ', k1)\n",
    "#Моделирование бросания кубика вторым играющим\n",
    "for k in range (2):\n",
    "    print('Кубик бросает', igrok2)\n",
    "    time.sleep(3)\n",
    "    n2 = randint(1, 6)\n",
    "    print('Выпало:', n2)\n",
    "    k2=k2+n2\n",
    "print('В сумме выпало - ', k2)\n",
    "#Определение результата (3 возможных варианта)\n",
    "if k1 > k2:\n",
    "    print('Выиграл', igrok1)\n",
    "elif k1 < k2:\n",
    "    print('Выиграл', igrok2)\n",
    "else:\n",
    "    print('Ничья')"
   ]
  },
  {
   "cell_type": "code",
   "execution_count": null,
   "metadata": {},
   "outputs": [],
   "source": [
    "import turtle\n",
    "turtle.reset()\n",
    "for k in range(10):\n",
    "    #Рисование квадрата\n",
    "    for n in range(4):\n",
    "        turtle.forward(40)\n",
    "        turtle.right(90)\n",
    "    #Поворот на 36 градусов\n",
    "    turtle.right(36)"
   ]
  },
  {
   "cell_type": "code",
   "execution_count": null,
   "metadata": {},
   "outputs": [],
   "source": [
    "n=-1\n",
    "for i in range (1, 9):\n",
    "    n=n+1\n",
    "    if n!=8:\n",
    "        for k in range (8, n, -1):\n",
    "            print ( '% 2d '% k, ' ', end='')\n",
    "        print()\n",
    "    else:\n",
    "        break"
   ]
  },
  {
   "cell_type": "code",
   "execution_count": null,
   "metadata": {},
   "outputs": [],
   "source": [
    "n=1\n",
    "for i in range (2, 10):\n",
    "    n=n+1\n",
    "    if n!=10:\n",
    "        for k in range (n, 11):\n",
    "            print ( '% 2d '% k, ' ', end='')\n",
    "        print()\n",
    "    else:\n",
    "        break"
   ]
  },
  {
   "cell_type": "code",
   "execution_count": null,
   "metadata": {},
   "outputs": [],
   "source": [
    "n=1\n",
    "for i in range (1, 11):\n",
    "    n=n+1\n",
    "    if n!=12:\n",
    "        for k in range (2, n):\n",
    "            print ( '% 2d '% k, ' ', end='')\n",
    "        print()\n",
    "    else:\n",
    "        break"
   ]
  },
  {
   "cell_type": "code",
   "execution_count": null,
   "metadata": {},
   "outputs": [],
   "source": [
    "n=[5, 6, 7, 8]\n",
    "print (n[0])"
   ]
  },
  {
   "cell_type": "code",
   "execution_count": null,
   "metadata": {},
   "outputs": [],
   "source": [
    "# сумму его четных цифр\n",
    "n = int (input ('Введите натуральное число - ' ))\n",
    "while n<=0:\n",
    "    print ('Неправильно ввели натуральное число')\n",
    "    n = int (input ('Введите натуральное число - ' ))\n",
    "else:\n",
    "    sum=0\n",
    "    while n>0:\n",
    "        posl=n%10\n",
    "        n=n//10\n",
    "        if (posl%2)==0:\n",
    "            sum=sum+posl\n",
    "        else:\n",
    "            print ()\n",
    "print(sum)"
   ]
  },
  {
   "cell_type": "code",
   "execution_count": null,
   "metadata": {},
   "outputs": [],
   "source": [
    "#количество его цифр, больших 5\n",
    "n = int (input ('Введите натуральное число - ' ))\n",
    "while n<=0:\n",
    "    print ('Неправильно ввели натуральное число')\n",
    "    n = int (input ('Введите натуральное число - ' ))\n",
    "else:\n",
    "    sum=0\n",
    "    while n>0:\n",
    "        posl=n%10\n",
    "        n=n//10\n",
    "        if posl>5:\n",
    "            sum=sum+1\n",
    "        else:\n",
    "            pass\n",
    "print(sum)"
   ]
  },
  {
   "cell_type": "code",
   "execution_count": null,
   "metadata": {},
   "outputs": [],
   "source": [
    "#максимальную нечетную цифру числа\n",
    "n = int (input ('Введите натуральное число - ' ))\n",
    "while n<=0:\n",
    "    print ('Неправильно ввели натуральное число')\n",
    "    n = int (input ('Введите натуральное число - ' ))\n",
    "else:\n",
    "    sum=0\n",
    "    max=0\n",
    "    while n>0:\n",
    "        posl=n%10\n",
    "        n=n//10\n",
    "        if (posl%2)!=0 and posl>max:\n",
    "            max=posl\n",
    "        else:\n",
    "            pass\n",
    "print(max)"
   ]
  },
  {
   "cell_type": "code",
   "execution_count": null,
   "metadata": {},
   "outputs": [],
   "source": [
    "#номер минимальной цифры числа при счете слева направо\n",
    "#определяем количество цифр\n",
    "n = int (input ('Введите натуральное число - ' ))\n",
    "while n<=0:\n",
    "    print ('Неправильно ввели натуральное число')\n",
    "    n = int (input ('Введите натуральное число - ' ))\n",
    "else:\n",
    "    m=0              #количество цифр в числе\n",
    "    min=9            #минимальная цифра\n",
    "    k=0              #номер справа налево\n",
    "    while n>0:\n",
    "        posl=n%10\n",
    "        n=n//10\n",
    "        m=m+1\n",
    "        if posl<min:\n",
    "            min=posl\n",
    "            k=m\n",
    "        else:\n",
    "            pass\n",
    "print('номер минимальной цифры числа -', m-k+1)\n",
    "print('значение цифры числа -', min)"
   ]
  },
  {
   "cell_type": "code",
   "execution_count": null,
   "metadata": {},
   "outputs": [],
   "source": [
    "#состоит из одинаковых цифр (как, например, 666)\n",
    "n = int (input ('Введите натуральное число - ' ))\n",
    "while n<=0:\n",
    "    print ('Неправильно ввели натуральное число')\n",
    "    n = int (input ('Введите натуральное число - ' ))\n",
    "else:\n",
    "    predposl=10\n",
    "    while n>0:\n",
    "        posl=n%10\n",
    "        n=n//10\n",
    "        if (posl==predposl) or (predposl==10):\n",
    "            predposl=posl\n",
    "        else:\n",
    "            print ('Число не содержит одинаковых цифр')\n",
    "            break\n",
    "if posl==predposl:\n",
    "    print('Число состоит из одинаковых цифр')\n",
    "    \n"
   ]
  },
  {
   "cell_type": "code",
   "execution_count": null,
   "metadata": {},
   "outputs": [],
   "source": [
    "#содержит две одинаковые цифры, стоящие рядом (как, например, 35 510)\n",
    "n = int (input ('Введите натуральное число - ' ))\n",
    "while n<=0:\n",
    "    print ('Неправильно ввели натуральное число')\n",
    "    n = int (input ('Введите натуральное число - ' ))\n",
    "else:\n",
    "    predposl=10\n",
    "    while n>0:\n",
    "        posl=n%10\n",
    "        n=n//10\n",
    "        if posl==predposl:\n",
    "            print ('ЕСТЬ две одинаковые цифры')\n",
    "            break\n",
    "        else:\n",
    "            predpredposl=predposl\n",
    "            predposl=posl\n",
    "if posl==predpredposl:\n",
    "    print('НЕТ одинаковых цифр')"
   ]
  },
  {
   "cell_type": "code",
   "execution_count": null,
   "metadata": {},
   "outputs": [],
   "source": [
    "#номер минимальной цифры числа при счете слева направо\n",
    "#определяем количество цифр\n",
    "n = int (input ('Введите натуральное число - ' ))\n",
    "while n<=0:                                                  # Определяем правильность числа\n",
    "    print ('Неправильно ввели натуральное число')\n",
    "    n = int (input ('Введите натуральное число - ' ))\n",
    "else:\n",
    "    n1=n\n",
    "    m=0\n",
    "    posl=0\n",
    "    while n1>0:\n",
    "        n2=n1\n",
    "        posl2=posl\n",
    "        posl=n1%10\n",
    "        n1=n1//10\n",
    "        m=m+1\n",
    "if n2<posl2:\n",
    "    predposl=10\n",
    "    for a in range (1, m+1):\n",
    "        posl1=n%10\n",
    "        n=n//10\n",
    "        if posl1<predposl:\n",
    "            predposl=posl1\n",
    "        else:\n",
    "            print ('Обычный ряд не возрастает')\n",
    "            break\n",
    "    if predposl==posl1:\n",
    "        print('Возрастает')\n",
    "else:\n",
    "    if n2>posl2:\n",
    "        predposl=0\n",
    "        for a in range (1, m+1):\n",
    "            posl1=n%10\n",
    "            n=n//10\n",
    "            if posl1>predposl:\n",
    "                predposl=posl1\n",
    "            else:\n",
    "                print ('Обычный ряд не убывает')\n",
    "                break\n",
    "        if predposl==posl1:\n",
    "            print('Убывает')\n",
    "    else:\n",
    "        print ('Обычный ряд равно')\n"
   ]
  },
  {
   "cell_type": "code",
   "execution_count": null,
   "metadata": {},
   "outputs": [],
   "source": [
    "st = input ('Введите фразу ' )\n",
    "o=st.count('o')+st.count('о')\n",
    "a=st.count('a')+st.count('а')\n",
    "if a>o:\n",
    "    print ('a втречается чаще o', a, 'Vs', o)\n",
    "if a<o:\n",
    "    print ('o втречается чаще a', o, 'Vs', a)\n",
    "if a==o:\n",
    "    print ('a = o', a, '=', o)"
   ]
  },
  {
   "cell_type": "code",
   "execution_count": null,
   "metadata": {},
   "outputs": [],
   "source": [
    "st = input ('Введите фразу ' )\n",
    "sim=st.count(',')\n",
    "if sim>0:\n",
    "    print ('Запятая встречается', sim, 'раз')\n",
    "if sim==0:\n",
    "    print ('Запятая не встречается')"
   ]
  },
  {
   "cell_type": "code",
   "execution_count": null,
   "metadata": {},
   "outputs": [],
   "source": [
    "st = input ('Введите фразу ' )\n",
    "for sim in st:\n",
    "    if sim=='н':\n",
    "        print ('Н - встречается раньше')\n",
    "        break\n",
    "    else:\n",
    "        if sim=='к':\n",
    "            print ('К - встречается раньше')\n",
    "            break\n",
    "        else:\n",
    "            pass\n",
    "if st.count('к')==0 and st.count('н')==0:\n",
    "    print ('Не встречается')"
   ]
  },
  {
   "cell_type": "code",
   "execution_count": null,
   "metadata": {},
   "outputs": [],
   "source": [
    "st = input ('Введите фразу ' )\n",
    "k=st.find(\" \")\n",
    "if k<=0:\n",
    "    print ('No probelov')\n",
    "else:\n",
    "    if st[k+1].isdigit():\n",
    "        print('Numeric')\n",
    "    else:\n",
    "        print ('Non numeric')\n",
    "                            \n"
   ]
  },
  {
   "cell_type": "code",
   "execution_count": null,
   "metadata": {},
   "outputs": [],
   "source": [
    "st = input ('Введите фразу ' )\n",
    "k=0\n",
    "i=st.count(',')\n",
    "chislo='0123456789'\n",
    "for m in range (10):\n",
    "    k=k+st.count(chislo[m])\n",
    "if k<i:\n",
    "    print ('Больше запятых')\n",
    "if k>i:\n",
    "    print ('Больше цифр')\n",
    "if k==i:\n",
    "    print ('Равно')"
   ]
  },
  {
   "cell_type": "code",
   "execution_count": null,
   "metadata": {},
   "outputs": [],
   "source": [
    "st = input ('Введите фразу ' )\n",
    "i=st.count('или')\n",
    "print ('Слово ИЛИ встречается - ', i, 'раз(а)')"
   ]
  },
  {
   "cell_type": "code",
   "execution_count": null,
   "metadata": {},
   "outputs": [],
   "source": [
    "st = input ('Введите фразу ' )\n",
    "nach=int(input('Введите начало '))\n",
    "kon=int(input('Введите конец '))\n",
    "st1=st[nach-1 : kon]\n",
    "print (st1)\n",
    "if st1.isdigit() and int(st1)==666:\n",
    "    print('Образует')\n",
    "else:\n",
    "    print ('Не образует')"
   ]
  },
  {
   "cell_type": "code",
   "execution_count": null,
   "metadata": {},
   "outputs": [],
   "source": [
    "st = input ('Введите фразу ' )\n",
    "nach=st.find(' ')\n",
    "st1=st[0 : nach]\n",
    "print (st1)"
   ]
  },
  {
   "cell_type": "code",
   "execution_count": null,
   "metadata": {},
   "outputs": [],
   "source": [
    "st = input ('Введите фразу ' )\n",
    "l=len(st)\n",
    "for i in range (l-1, 0, -1):\n",
    "    if st[i]==' ':\n",
    "        k=i\n",
    "        break\n",
    "    else:\n",
    "        pass\n",
    "st1=st[k+1 : l]\n",
    "print (st1)"
   ]
  },
  {
   "cell_type": "code",
   "execution_count": null,
   "metadata": {},
   "outputs": [],
   "source": [
    "st = input ('Введите фразу ' )\n",
    "for g in range (0, 3):\n",
    "#while st.count(' ')!=0:  # для хоть скольки\n",
    "    k=1\n",
    "    l=len(st)\n",
    "    for i in range (k-1, l):\n",
    "        if st[i]==' ':\n",
    "            n=i\n",
    "            break\n",
    "        else:\n",
    "            pass\n",
    "    st1=st[0 : n]\n",
    "    print (st1)\n",
    "    if (n+2)<l:\n",
    "        st=st[n+2 : l]\n",
    "#        print (st)\n",
    "    else:\n",
    "        pass"
   ]
  },
  {
   "cell_type": "code",
   "execution_count": null,
   "metadata": {},
   "outputs": [],
   "source": [
    "st = input ('Введите фразу ' )\n",
    "for g in range (0, 2):\n",
    "    l=len(st)\n",
    "    for i in range (l-1, 0, -1):\n",
    "        if st[i]==' ':\n",
    "            k=i\n",
    "            break\n",
    "        else:\n",
    "            pass\n",
    "    st1=st[k+1 : l]\n",
    "    print (st1)\n",
    "    if (l-k+1)>0:\n",
    "        st=st[0 : l-k+1]\n",
    "    else:\n",
    "        pass"
   ]
  },
  {
   "cell_type": "code",
   "execution_count": null,
   "metadata": {},
   "outputs": [],
   "source": [
    "st = input ('Введите фразу ' )\n",
    "for g in range (0, 6):\n",
    "#while st.count(' ')!=0:  # для хоть скольки\n",
    "    k=1\n",
    "    l=len(st)\n",
    "    for i in range (k-1, l):\n",
    "        if st[i]==' ':\n",
    "            n=i\n",
    "            break\n",
    "        else:\n",
    "            pass\n",
    "    st1=st[0 : n]\n",
    "    print (st1)\n",
    "    if (n+1)<l:\n",
    "        st=st[n+1 : l]\n",
    "#        print (st)\n",
    "    else:\n",
    "        pass\n",
    "p=ord('\\')\n",
    "print(p)"
   ]
  },
  {
   "cell_type": "code",
   "execution_count": null,
   "metadata": {},
   "outputs": [],
   "source": [
    "st = input ('Введите фразу ' )\n",
    "lmax=0\n",
    "while st.count(' ')!=0:  # для хоть скольки\n",
    "    k=1\n",
    "    l=len(st)\n",
    "    for i in range (k-1, l):\n",
    "        if st[i]==' ':\n",
    "            n=i\n",
    "            break\n",
    "        else:\n",
    "            pass\n",
    "    st1=st[0 : n]\n",
    "    l1=len(st1)\n",
    "    if l1>lmax:\n",
    "        lmax=l1\n",
    "        stmax=st1\n",
    "    else:\n",
    "        pass\n",
    "    print (st1)\n",
    "    if n<=l:\n",
    "        st=st[n+1 : l]\n",
    "#        print (st)\n",
    "    else:\n",
    "        pass\n",
    "print (st)\n",
    "if stmax<st:\n",
    "    print ('Самое большое число', stmax)\n",
    "else:\n",
    "    print ('Самое большое число', st)"
   ]
  },
  {
   "cell_type": "code",
   "execution_count": null,
   "metadata": {},
   "outputs": [],
   "source": [
    "st = input ('Введите фразу ' )\n",
    "st1=''\n",
    "l=len(st)\n",
    "for i in st:\n",
    "    if i=='а':\n",
    "        i='б'\n",
    "    else:\n",
    "        if i=='б':\n",
    "            i='а'\n",
    "        else:\n",
    "            if i=='А':\n",
    "                i='Б'\n",
    "            else:\n",
    "                if i=='Б':\n",
    "                    i='А'\n",
    "    st1=st1+i\n",
    "print(st1)"
   ]
  },
  {
   "cell_type": "code",
   "execution_count": null,
   "metadata": {},
   "outputs": [],
   "source": [
    "st = input ('Введите фразу ' )\n",
    "st1=st.replace(' ','')\n",
    "print(st1)"
   ]
  },
  {
   "cell_type": "code",
   "execution_count": null,
   "metadata": {},
   "outputs": [],
   "source": [
    "# полиндром\n",
    "st = input ('Введите фразу ' )\n",
    "l=len(st)\n",
    "st2=''\n",
    "for i in range (l-1, -1, -1):\n",
    "    st2=st2+st[i]\n",
    "#    print(st[i])\n",
    "st1=st.replace(' ','')\n",
    "st2=st2.replace(' ','')\n",
    "print(st1, st2)\n",
    "if st1==st2:\n",
    "    print('Полиндром')\n",
    "else:\n",
    "    print('Просто слово')"
   ]
  },
  {
   "cell_type": "code",
   "execution_count": null,
   "metadata": {},
   "outputs": [],
   "source": [
    "k=int(input('Введите число '))\n",
    "st=str(k)\n",
    "l=len(st)\n",
    "print(l)"
   ]
  },
  {
   "cell_type": "code",
   "execution_count": null,
   "metadata": {},
   "outputs": [],
   "source": [
    "a=['#']\n",
    "a=a*20\n",
    "print(a)"
   ]
  },
  {
   "cell_type": "code",
   "execution_count": null,
   "metadata": {},
   "outputs": [],
   "source": [
    "from random import randint\n",
    "a=int(input('Введите начальное число а - '))\n",
    "b=int(input('Введите конечное число b - '))\n",
    "n=int(input('Введите число n - '))\n",
    "array=[randint(a, b) for i in range(n)]\n",
    "print(array)\n"
   ]
  },
  {
   "cell_type": "code",
   "execution_count": null,
   "metadata": {},
   "outputs": [],
   "source": [
    "from random import randint\n",
    "n=int(input('Введите число n - '))\n",
    "array=[2**i for i in range(1, n)]\n",
    "print(array)"
   ]
  },
  {
   "cell_type": "code",
   "execution_count": null,
   "metadata": {},
   "outputs": [],
   "source": [
    "#from random import randint\n",
    "#n=int(input('Введите число n - '))\n",
    "array=[i for i in range(1, 26)]\n",
    "array.append(100)\n",
    "array.append(200)\n",
    "print(array)"
   ]
  },
  {
   "cell_type": "code",
   "execution_count": null,
   "metadata": {},
   "outputs": [],
   "source": [
    "b=[]\n",
    "a=[i for i in range (10)]\n",
    "for k in range (10):\n",
    "    a[k]=int(input('Введите число - '))\n",
    "    if a[k]<0:\n",
    "        b.append(a[k])\n",
    "    else:\n",
    "        pass\n",
    "print (b)\n",
    "        "
   ]
  },
  {
   "cell_type": "code",
   "execution_count": null,
   "metadata": {},
   "outputs": [],
   "source": [
    "from random import randint\n",
    "b=[]\n",
    "a=[randint(-100, 100) for i in range (10)]\n",
    "for k in range (10):\n",
    "    if a[k]<0:\n",
    "        b.append(a[k])\n",
    "        pass\n",
    "    else:\n",
    "        pass\n",
    "l=len(b)\n",
    "print (a)\n",
    "print (b)\n"
   ]
  },
  {
   "cell_type": "code",
   "execution_count": null,
   "metadata": {},
   "outputs": [],
   "source": [
    "b=[]\n",
    "a=[i for i in range (10)]\n",
    "for k in range (10):\n",
    "    a[k]=int(input('Введите число - '))\n",
    "    if k<9:\n",
    "        b.append(a[k])\n",
    "    else:\n",
    "        pass\n",
    "print (b)"
   ]
  },
  {
   "cell_type": "code",
   "execution_count": null,
   "metadata": {},
   "outputs": [],
   "source": [
    "from random import randint\n",
    "b=[]\n",
    "a=[randint(-100, 100) for i in range (10)]\n",
    "for k in range (10):\n",
    "    if k<9:\n",
    "        b.append(a[k])\n",
    "    else:\n",
    "        pass\n",
    "print (a)\n",
    "print (b)"
   ]
  },
  {
   "cell_type": "code",
   "execution_count": null,
   "metadata": {},
   "outputs": [],
   "source": [
    "# Фибоначчи\n",
    "a=[1,1]\n",
    "for i in range (8):\n",
    "    a.append(a[i]+a[i+1])\n",
    "print (a)"
   ]
  },
  {
   "cell_type": "code",
   "execution_count": null,
   "metadata": {},
   "outputs": [],
   "source": [
    "# Простые числа от 100\n",
    "a=[]\n",
    "for n in range (100, 1000):\n",
    "    if n%2==0 or n%3==0 or n%5==0:\n",
    "        pass\n",
    "    else:\n",
    "        a.append(n)\n",
    "        l=len(a)\n",
    "        if l==10:\n",
    "            break\n",
    "        else:\n",
    "            pass\n",
    "print (a)"
   ]
  },
  {
   "cell_type": "code",
   "execution_count": null,
   "metadata": {},
   "outputs": [],
   "source": [
    "sp=[[1,2,3],[4,5,6],[7,8,9]]\n",
    "print(sp[1][2])"
   ]
  },
  {
   "cell_type": "code",
   "execution_count": null,
   "metadata": {},
   "outputs": [],
   "source": [
    "# Словари столицы\n",
    "R={'Россия': 'Москва', 'США': 'Вашингтон', 'Германия': 'Берлин', 'Франция': 'Париж'}\n",
    "kl=input('Введите страну - ')\n",
    "if kl in R:\n",
    "    print(R[kl])\n",
    "else:\n",
    "    print('Такой страны в словаре нет')"
   ]
  },
  {
   "cell_type": "code",
   "execution_count": null,
   "metadata": {},
   "outputs": [],
   "source": [
    "# Словари столицы\n",
    "from random import randint\n",
    "R={'1a': randint(20, 30), '1b': randint(20, 30),\n",
    "   '2a': randint(20, 30), '2b': randint(20, 30),\n",
    "   '3a': randint(20, 30), '3a': randint(20, 30)}\n",
    "print (R)\n",
    "kl=input('Введите класс - ')\n",
    "if kl in R:\n",
    "    print(R[kl])\n",
    "else:\n",
    "    print('Такой страны в словаре нет')"
   ]
  },
  {
   "cell_type": "code",
   "execution_count": null,
   "metadata": {},
   "outputs": [],
   "source": [
    "# Школа меняется количество детей\n",
    "from random import randint\n",
    "R={'1a': randint(20, 30), '1b': randint(20, 30),\n",
    "   '2a': randint(20, 30), '2b': randint(20, 30),\n",
    "   '3a': randint(20, 30), '3a': randint(20, 30)}\n",
    "print (R)\n",
    "kl=input('Введите класс в котором хотите изменить количество детей - ')\n",
    "kol=int(input('Количество детей - '))\n",
    "if kl in R:\n",
    "    R[kl]=kol\n",
    "    print(R[kl])\n",
    "else:\n",
    "    print('Такой страны в словаре нет')\n",
    "print (R)"
   ]
  },
  {
   "cell_type": "code",
   "execution_count": null,
   "metadata": {},
   "outputs": [],
   "source": [
    "# Школа меняется количество классов\n",
    "from random import randint\n",
    "R={'1a': randint(20, 30), '1b': randint(20, 30),\n",
    "   '2a': randint(20, 30), '2b': randint(20, 30),\n",
    "   '3a': randint(20, 30), '3a': randint(20, 30)}\n",
    "print (R)\n",
    "for i in range (2):\n",
    "    kl=input('Введите класс в котором хотите изменить количество детей - ')\n",
    "    kol=int(input('Количество детей - '))\n",
    "    R[kl]=kol\n",
    "print (R)"
   ]
  },
  {
   "cell_type": "code",
   "execution_count": null,
   "metadata": {},
   "outputs": [],
   "source": [
    "# Школа меняется количество классов\n",
    "from random import randint\n",
    "R={'1a': randint(20, 30), '1b': randint(20, 30),\n",
    "   '2a': randint(20, 30), '2b': randint(20, 30),\n",
    "   '3a': randint(20, 30), '3b': randint(20, 30)}\n",
    "sum=0\n",
    "print (R)\n",
    "kl=input('Введите класс который расформируют - ')\n",
    "if kl in R:\n",
    "    del R[kl]\n",
    "else:\n",
    "    print('Такого класса нет')\n",
    "for kl in R:\n",
    "    sum=sum+R[kl]\n",
    "print ('Общее количество участников - ', sum )\n",
    "for kl in R:\n",
    "    print (kl, R[kl])"
   ]
  },
  {
   "cell_type": "code",
   "execution_count": null,
   "metadata": {},
   "outputs": [],
   "source": [
    "text = input('Введите текст ')\n",
    "#Создание и заполнение словаря\n",
    "D = {}\n",
    "for c in text:\n",
    "    if c in D:\n",
    "        D[c] = D[c] + 1\n",
    "    else:\n",
    "        D[c] = 1\n",
    "#Вывод словаря\n",
    "for k in D:\n",
    "    print(k, D[k])"
   ]
  },
  {
   "cell_type": "code",
   "execution_count": null,
   "metadata": {},
   "outputs": [],
   "source": [
    "text = input('Введите текст ')\n",
    "#Создание и заполнение словаря\n",
    "D = {}\n",
    "for c in text:\n",
    "    if c in D:\n",
    "        D[c] = D[c] + 1\n",
    "    else:\n",
    "        D[c] = 1\n",
    "#Вывод словаря\n",
    "for k in D:\n",
    "    if k.isdigit():\n",
    "        print(k, D[k])"
   ]
  },
  {
   "cell_type": "code",
   "execution_count": null,
   "metadata": {},
   "outputs": [],
   "source": [
    "Country1={'Столица': 'Москва', 'Часть света': 'Евразия',\n",
    "          'Численность': '146171015', 'Площадь территории': '17125191' }\n",
    "Country2={'Столица': 'Вашингтон', 'Часть света': 'Северная Америка',\n",
    "          'Численность': '331216157', 'Площадь территории': '9519431' }\n",
    "Country3={'Столица': 'Лондон', 'Часть света': 'Евразия',\n",
    "          'Численность': '66273576', 'Площадь территории': '243809' }\n",
    "Country4={'Столица': 'Берлин', 'Часть света': 'Евразия',\n",
    "          'Численность': '81292400', 'Площадь территории': '357385' }\n",
    "Country5={'Столица': 'Париж', 'Часть света': 'Евразия',\n",
    "          'Численность': '68084217', 'Площадь территории': '643801' }\n",
    "Country6={'Столица': 'Токио', 'Часть света': 'Евразия',\n",
    "          'Численность': '125900000', 'Площадь территории': '377944' }\n",
    "Country7={'Столица': 'Дели', 'Часть света': 'Евразия',\n",
    "          'Численность': '1385326000', 'Площадь территории': '3 287 263' }\n",
    "Country8={'Столица': 'Пекин', 'Часть света': 'Евразия',\n",
    "          'Численность': '1404328611', 'Площадь территории': '9598962' }\n",
    "Country9={'Столица': 'Буэнос-Айрес', 'Часть света': 'Южная Америка',\n",
    "          'Численность': '45195777', 'Площадь территории': '2780400' }\n",
    "Country10={'Столица': 'Каир', 'Часть света': 'Африка',\n",
    "          'Численность': '100704000', 'Площадь территории': '1001450' }\n",
    "Country11={'Столица': 'Канберра', 'Часть света': 'Австралия',\n",
    "          'Численность': '25180200', 'Площадь территории': '7692024' }\n",
    "Country={'Россия': 'Country1', 'США': 'Country2', 'Великобритания': 'Country3', 'Германия': 'Country4',\n",
    "        'Франция': 'Country5', 'Япония': 'Country6', 'Индия': 'Country7', 'Китай': 'Country8',\n",
    "        'Аргентина': 'Country9', 'Египет': 'Country10', 'Австралия': 'Country11'}\n",
    "#stol=input('Ведите наименование столицы - ')\n",
    "for kl in Country:\n",
    "#    if Country[kl]['Столица'] == stol:\n",
    "#        print (stol, ' -- ',Country[kl]['Название'])\n",
    "#    else:\n",
    "#        print('Такой столицы в справочнике - нет')\n",
    "    print (Country[kl]['Столица'])"
   ]
  },
  {
   "cell_type": "code",
   "execution_count": null,
   "metadata": {},
   "outputs": [],
   "source": [
    "str=input('Введите строку')\n",
    "f=open('d:/1.txt', 'w')\n",
    "for sim in str:\n",
    "    f.write(sim)\n",
    "    f.write('\\n')\n",
    "f.close()\n",
    "    "
   ]
  },
  {
   "cell_type": "code",
   "execution_count": null,
   "metadata": {},
   "outputs": [],
   "source": [
    "from random import randint\n",
    "k = 0\n",
    "f = open('d:/1.txt', 'w')\n",
    "while k<15:\n",
    "    chislo = randint(50,100)\n",
    "#    s=str(chislo)\n",
    "#    f.write(s)\n",
    "    result = str(chislo)\n",
    "    f.write(result)\n",
    "    f.write('\\n')\n",
    "    k = k+1\n",
    "f.close()"
   ]
  },
  {
   "cell_type": "code",
   "execution_count": null,
   "metadata": {},
   "outputs": [],
   "source": [
    "from random import randint\n",
    "k = 1\n",
    "f = open('d:/1.txt', 'w')\n",
    "while k<=10:\n",
    "    chislo=k**2\n",
    "    result = str(chislo)\n",
    "    f.write(result)\n",
    "    f.write('\\n')\n",
    "    k = k+1\n",
    "f.close()"
   ]
  },
  {
   "cell_type": "code",
   "execution_count": null,
   "metadata": {},
   "outputs": [],
   "source": [
    "print('Введите города')\n",
    "f = open('d:/1.txt', 'w')\n",
    "for i in range (1, 6):\n",
    "    st = input()\n",
    "    f.write(st)\n",
    "    f.write('\\n')\n",
    "    st=''\n",
    "f.close()"
   ]
  },
  {
   "cell_type": "code",
   "execution_count": 2,
   "metadata": {},
   "outputs": [
    {
     "name": "stdout",
     "output_type": "stream",
     "text": [
      "1\n",
      "add global a\n",
      "['a'] [['a']]\n"
     ]
    }
   ],
   "source": [
    "def add (namesp, arg): # add global a\n",
    "    global globalist\n",
    "    globalist.append(arg)\n",
    "def create(namesp, arg):# create foo global\n",
    "    global globalist\n",
    "    globalist.append(namesp)\n",
    "def get(namesp, arg):\n",
    "    return \n",
    "globalist = []\n",
    "lst = [globalist]\n",
    "n = int(input())\n",
    "if  1 <= n <= 100:\n",
    "    for i in range (n):\n",
    "        cmd, namesp, arg = input().split()\n",
    "        if cmd == 'add':\n",
    "            add(namesp, arg)\n",
    "        elif cmd == 'create':\n",
    "            create(namesp, arg)\n",
    "        elif cmd == 'get':\n",
    "            get(namesp, arg)            \n",
    "else:\n",
    "    print('Out of range')\n",
    "print(globalist, lst)"
   ]
  },
  {
   "cell_type": "code",
   "execution_count": null,
   "metadata": {},
   "outputs": [],
   "source": []
  }
 ],
 "metadata": {
  "kernelspec": {
   "display_name": "Python 3",
   "language": "python",
   "name": "python3"
  },
  "language_info": {
   "codemirror_mode": {
    "name": "ipython",
    "version": 3
   },
   "file_extension": ".py",
   "mimetype": "text/x-python",
   "name": "python",
   "nbconvert_exporter": "python",
   "pygments_lexer": "ipython3",
   "version": "3.8.8"
  }
 },
 "nbformat": 4,
 "nbformat_minor": 4
}
