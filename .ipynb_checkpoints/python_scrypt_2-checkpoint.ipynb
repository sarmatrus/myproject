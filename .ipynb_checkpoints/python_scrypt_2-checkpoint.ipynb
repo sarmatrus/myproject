{
 "cells": [
  {
   "cell_type": "code",
   "execution_count": null,
   "metadata": {},
   "outputs": [],
   "source": [
    "def ris (a,b):\n",
    "    for i in range (a):\n",
    "        for j in range (b):\n",
    "            print ('*', end='')\n",
    "        print()\n",
    "a=int(input('Введите высоту a='))\n",
    "b=int(input('Введите ширину b='))\n",
    "ris(a,b)"
   ]
  },
  {
   "cell_type": "code",
   "execution_count": null,
   "metadata": {},
   "outputs": [],
   "source": [
    "def ris (a,b,st):\n",
    "    for i in range (a):\n",
    "        for j in range (b):\n",
    "            print (st , end='')\n",
    "        print()\n",
    "a=int(input('Введите высоту a='))\n",
    "b=int(input('Введите ширину b='))\n",
    "st=input('Введите символ -')\n",
    "ris(a,b,st)"
   ]
  },
  {
   "cell_type": "code",
   "execution_count": null,
   "metadata": {},
   "outputs": [],
   "source": [
    "def ris (a,st):\n",
    "    b=0\n",
    "    for i in range (a):\n",
    "        for j in range (b+1):\n",
    "            print (st , end='')\n",
    "        print()\n",
    "        b=b+1\n",
    "        if b>a:\n",
    "            break\n",
    "        else:\n",
    "            pass\n",
    "a=int(input('Введите высоту a='))\n",
    "st=input('Введите символ -')\n",
    "ris(a,st)"
   ]
  },
  {
   "cell_type": "code",
   "execution_count": null,
   "metadata": {},
   "outputs": [],
   "source": [
    "def ris (st):\n",
    "    b=0\n",
    "    for i in range (6):\n",
    "        for j in range (b+1):\n",
    "            print (st , end='')\n",
    "        print()\n",
    "        b=b+1\n",
    "        if b>a:\n",
    "            break\n",
    "        else:\n",
    "            pass\n",
    "def ris1 ():\n",
    "    c=5\n",
    "    for i in range (5):\n",
    "        for j in range (c):\n",
    "            print (st , end='')\n",
    "        print()\n",
    "        c=c-1\n",
    "st=input('Введите символ - ')\n",
    "ris(st)\n",
    "ris1()"
   ]
  },
  {
   "cell_type": "code",
   "execution_count": null,
   "metadata": {},
   "outputs": [],
   "source": [
    "def func (a):\n",
    "    b=(a**0.5+a)\n",
    "    return b/2\n",
    "c=func(6)+func(13)+func(21)\n",
    "print('Значение функции - ', c)"
   ]
  },
  {
   "cell_type": "code",
   "execution_count": null,
   "metadata": {},
   "outputs": [],
   "source": [
    "def sign (a):\n",
    "    if a < 0:\n",
    "        return (-1)\n",
    "    else:\n",
    "        if a == 0:\n",
    "            return 0\n",
    "        else:\n",
    "            return  1\n",
    "x = int(input('Введите x = '))\n",
    "y = int(input('Введите y = '))\n",
    "z = sign(x) + sign(y)\n",
    "print ('sign(x) + sign(y) = ', z)"
   ]
  },
  {
   "cell_type": "code",
   "execution_count": null,
   "metadata": {},
   "outputs": [],
   "source": [
    "def treug (a, b):\n",
    "    c=a**2+b**2\n",
    "    return c**0.5\n",
    "ab = float(input('Введите AB = '))\n",
    "ad = float(input('Введите AD = '))\n",
    "cd = float(input('Введите CB = '))\n",
    "bd = treug (ab, ad)\n",
    "ac = treug (ad, cd)\n",
    "print ('Гипотинуза BD = ', bd, 'Гипотинуза AC = ', ac)"
   ]
  },
  {
   "cell_type": "code",
   "execution_count": null,
   "metadata": {},
   "outputs": [],
   "source": [
    "def treug (x, x0, y, y0):\n",
    "    c = (x-x0)**2 + (y-y0)**2\n",
    "    return c**0.5\n",
    "x1, y1 = float(input('Введите x1 = ')), float(input('Введите y1 = '))\n",
    "x2, y2 = float(input('Введите x2 = ')), float(input('Введите y2 = '))\n",
    "x3, y3 = float(input('Введите x3 = ')), float(input('Введите y3 = '))\n",
    "ab = treug (x1, x2, y1, y2)\n",
    "cd = treug (x1, x3, y1, y3)\n",
    "ef = treug (x2, x3, y2, y3)\n",
    "p = ab + cd + ef\n",
    "print ('Периметр треугольника = ', p)\n"
   ]
  },
  {
   "cell_type": "code",
   "execution_count": 11,
   "metadata": {},
   "outputs": [
    {
     "name": "stdout",
     "output_type": "stream",
     "text": [
      "[257176, 257419, 117270, 942915, 525318, 185266, 404512, 474267, 565178, 219291, 169844, 229913, 471336, 326470, 953845, 948768, 416146, 950437, 171009, 447348, 208802, 475880, 594792, 492267, 247463, 272722, 692386, 719962, 795768, 567297, 249870, 658991, 239257, 940193, 570705, 921633, 419554, 934349, 648828, 640523, 733355, 854782, 291516, 708744, 860950, 446437, 605236, 954684, 276366, 804165, 703307, 661724, 926368, 169277, 115160, 342252, 155344, 817943, 554734, 252630, 267537, 911470, 159843, 604082, 905941, 773377, 646196]\n"
     ]
    }
   ],
   "source": [
    "def sum (chis):\n",
    "    z = (chis // 100000) + (chis // 10000 % 10) + (chis // 1000 % 10 % 10)\n",
    "    v = (chis // 100 % 10 % 10 % 10) + (chis // 10 % 10 % 10 % 10 % 10) + (chis % 10 % 10 % 10 % 10 % 10)\n",
    "    return z - v\n",
    "from random import randint\n",
    "b=[]\n",
    "a=[randint(100000, 999999) for i in range (1000)]\n",
    "for k in range (1000):\n",
    "    if sum (a[k]) == 0:\n",
    "        b.append(a[k])\n",
    "    else:\n",
    "        pass\n",
    "print (b)"
   ]
  }
 ],
 "metadata": {
  "kernelspec": {
   "display_name": "Python 3",
   "language": "python",
   "name": "python3"
  },
  "language_info": {
   "codemirror_mode": {
    "name": "ipython",
    "version": 3
   },
   "file_extension": ".py",
   "mimetype": "text/x-python",
   "name": "python",
   "nbconvert_exporter": "python",
   "pygments_lexer": "ipython3",
   "version": "3.8.5"
  }
 },
 "nbformat": 4,
 "nbformat_minor": 4
}
